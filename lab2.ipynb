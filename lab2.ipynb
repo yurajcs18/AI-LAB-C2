{
 "cells": [
  {
   "cell_type": "code",
   "execution_count": 1,
   "metadata": {},
   "outputs": [],
   "source": [
    "# Depth first search in search of target - Using Recursion\n",
    "\n",
    "def dfs(src,target,limit,visited_states):\n",
    "    # Base case if Target found\n",
    "    if src == target : \n",
    "        return True\n",
    "    \n",
    "    \n",
    "    # Base case if limit exceeded\n",
    "    if (limit <= 0):\n",
    "        return False \n",
    "\n",
    "    \n",
    "    \n",
    "    # Add source to visited_states\n",
    "    visited_states.append(src);\n",
    "    \n",
    "    \n",
    "    # Find possible slides up, down, left right to current empty site\n",
    "    ### Jump to possible_moves function\n",
    "    poss_moves = possible_moves(src,visited_states) \n",
    "        \n",
    "        \n",
    "        \n",
    "    # For all possible moves gotten from the possible moves function\n",
    "    # Check if src equals to new targets\n",
    "    # Return True if target found in given depth limit\n",
    "    for move in poss_moves:\n",
    "        if dfs(move, target, limit-1, visited_states): return True\n",
    "    return False"
   ]
  },
  {
   "cell_type": "code",
   "execution_count": 2,
   "metadata": {},
   "outputs": [],
   "source": [
    "def possible_moves(state,visited_states): \n",
    "    # Find index of empty spot and assign it to b\n",
    "    b = state.index(-1);\n",
    "    \n",
    "    #'d' for down, 'u' for up, 'r' for right, 'l' for left - directions array\n",
    "    d = []\n",
    "                                    \n",
    "    #Add all possible direction into directions array - Hint using if statements\n",
    "    if b - 3 in range(9): \n",
    "        d.append('u')\n",
    "    if b not in [0,3,6]: \n",
    "        d.append('l')\n",
    "    if b not in [2,5,8]: \n",
    "        d.append('r')\n",
    "    if b + 3 in range(9): \n",
    "        d.append('d')\n",
    "    \n",
    "    # If direction is possible then add state to move\n",
    "    pos_moves = []\n",
    "    \n",
    "    # for all possible directions find the state if that move is played\n",
    "    ### Jump to gen function to generate all possible moves in the given directions\n",
    "    for m in d:\n",
    "        pos_moves.append(gen(state, m, b))\n",
    "    \n",
    "    # return all possible moves only if the move not in visited_states\n",
    "    return [move for move in pos_moves if move not in visited_states]"
   ]
  },
  {
   "cell_type": "code",
   "execution_count": 3,
   "metadata": {},
   "outputs": [],
   "source": [
    "def gen(state, m, b): # m(move) is direction to slide, b(blank) is index of empty spot\n",
    "    # create a copy of current state to test the move\n",
    "    temp = state.copy()                              \n",
    "    \n",
    "    # if move is to slide empty spot to the left and so on\n",
    "    if m == 'u': temp[b-3] , temp[b] = temp[b], temp[b-3]\n",
    "    if m == 'l': temp[b-1] , temp[b] = temp[b], temp[b-1]\n",
    "    if m == 'r': temp[b+1] , temp[b] = temp[b], temp[b+1]\n",
    "    if m == 'd': temp[b+3] , temp[b] = temp[b], temp[b+3]   \n",
    "    \n",
    "    # return new state with tested move to later check if \"src == target\"\n",
    "    return temp"
   ]
  },
  {
   "cell_type": "code",
   "execution_count": 4,
   "metadata": {},
   "outputs": [],
   "source": [
    "def iddfs(src,target,depth):\n",
    "    visited_states = []\n",
    "    # Return Min depth at which the target was found\n",
    "    for i in range(1, depth+1):\n",
    "        if dfs(src, target, i, visited_states): return True\n",
    "    return False"
   ]
  },
  {
   "cell_type": "code",
   "execution_count": 5,
   "metadata": {},
   "outputs": [
    {
     "data": {
      "text/plain": [
       "False"
      ]
     },
     "execution_count": 5,
     "metadata": {},
     "output_type": "execute_result"
    }
   ],
   "source": [
    "#Test 1\n",
    "src = [1,2,3,-1,4,5,6,7,8]\n",
    "target = [1,2,3,4,5,-1,6,7,8]         \n",
    "    \n",
    "\n",
    "\n",
    "depth = 1\n",
    "iddfs(src, target, depth) # Minimum depth should be 2"
   ]
  },
  {
   "cell_type": "code",
   "execution_count": 6,
   "metadata": {},
   "outputs": [
    {
     "data": {
      "text/plain": [
       "True"
      ]
     },
     "execution_count": 6,
     "metadata": {},
     "output_type": "execute_result"
    }
   ],
   "source": [
    "# Test 2\n",
    "src = [1,2,3,-1,4,5,6,7,8] \n",
    "target=[1,2,3,6,4,5,-1,7,8]\n",
    "\n",
    "depth = 1\n",
    "iddfs(src, target, depth) # Minimum depth is 1"
   ]
  },
  {
   "cell_type": "code",
   "execution_count": 7,
   "metadata": {},
   "outputs": [
    {
     "data": {
      "text/plain": [
       "True"
      ]
     },
     "execution_count": 7,
     "metadata": {},
     "output_type": "execute_result"
    }
   ],
   "source": [
    "# Test 3\n",
    "# Try to create a source and target that reaches large minimum required depth \n",
    "src = None\n",
    "target = None\n",
    "\n",
    "\n",
    "\n",
    "\n",
    "\n",
    "\n",
    "iddfs(src, target, depth) # I have reached 25 in the next cell, Lets see if u can beat that"
   ]
  },
  {
   "cell_type": "code",
   "execution_count": 8,
   "metadata": {},
   "outputs": [],
   "source": [
    "# Maximum Change \n",
    "# An Experiemnt I did to try and find the maximum required depth assuming \n",
    "# that this was the biggest possible change from src to target\n",
    "\n",
    "## Uncomment to try\n",
    "# src = [1, 2, 3, 4, 5, 6, 7, 8, -1]\n",
    "# target = [-1, 1, 2, 3, 4, 5, 6, 7, 8]\n",
    "\n",
    "# for i in range(1, 100):\n",
    "#     val = iddfs(src,target,i)\n",
    "#     print(i, val)\n",
    "#     if val == True:\n",
    "#         break"
   ]
  },
  {
   "cell_type": "code",
   "execution_count": null,
   "metadata": {},
   "outputs": [],
   "source": []
  }
 ],
 "metadata": {
  "kernelspec": {
   "display_name": "Python 3",
   "language": "python",
   "name": "python3"
  },
  "language_info": {
   "codemirror_mode": {
    "name": "ipython",
    "version": 3
   },
   "file_extension": ".py",
   "mimetype": "text/x-python",
   "name": "python",
   "nbconvert_exporter": "python",
   "pygments_lexer": "ipython3",
   "version": "3.8.3"
  }
 },
 "nbformat": 4,
 "nbformat_minor": 4
}
