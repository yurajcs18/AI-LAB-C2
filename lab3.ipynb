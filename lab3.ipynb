{
 "cells": [
  {
   "cell_type": "code",
   "execution_count": 1,
   "metadata": {},
   "outputs": [],
   "source": [
    "# Bredth first search in search of target - Using Brute Force Algorithms\n",
    "\n",
    "def bfs(src,target):\n",
    "    # Use brute force technique\n",
    "    visited_states=[]\n",
    "    visited_states.append(src)\n",
    "    arr = [src]\n",
    "    c = 0\n",
    "    while arr:\n",
    "        c += 1                                                                            \n",
    "        if arr[0] == target:                             \n",
    "            return True\n",
    "        arr += possible_moves(arr[0],visited_states)                    \n",
    "        arr.pop(0)                                                                    \n",
    "    return False"
   ]
  },
  {
   "cell_type": "code",
   "execution_count": 2,
   "metadata": {},
   "outputs": [],
   "source": [
    "def possible_moves(state,visited_states): \n",
    "    # Find index of empty spot and assign it to b\n",
    "    \n",
    "    b = state.index(-1)  \n",
    "    \n",
    "    #'d' for down, 'u' for up, 'r' for right, 'l' for left - directions array\n",
    "    d = []\n",
    "                                    \n",
    "    #Add all possible direction into directions array - Hint using if statements\n",
    "    \n",
    "    if b+3 in range(9):\n",
    "        d.append('d')\n",
    "    if b-3 in range(9):\n",
    "        d.append('u')\n",
    "    if b not in [0,3,6]:\n",
    "        d.append('l')\n",
    "    if b not in [2,5,8]:\n",
    "        d.append('r')\n",
    "    \n",
    "    # If direction is possible then add state to move\n",
    "    pos_moves = []\n",
    "    \n",
    "    # for all possible directions find the state if that move is played\n",
    "    ### Jump to gen function to generate all possible moves in the given directions\n",
    "    for move in d:\n",
    "        pos_moves.append(gen(state,move,b))\n",
    "        \n",
    "    # return all possible moves only if the move not in visited_states\n",
    "    return [move for move in pos_moves if move not in visited_states]"
   ]
  },
  {
   "cell_type": "code",
   "execution_count": 3,
   "metadata": {},
   "outputs": [],
   "source": [
    "# Generate move for given direction\n",
    "def gen(state, direction, blank_spot):\n",
    "    temp = state.copy()                            \n",
    "    \n",
    "    # if move is to slide empty spot to the left and so on\n",
    "    \n",
    "    if direction=='d':\n",
    "        a = temp[blank_spot+3]\n",
    "        temp[blank_spot+3]=temp[blank_spot]\n",
    "        temp[blank_spot]=a\n",
    "    elif direction=='u':\n",
    "        a = temp[blank_spot-3]\n",
    "        temp[blank_spot-3]=temp[blank_spot]\n",
    "        temp[blank_spot]=a\n",
    "    elif direction=='l':\n",
    "        a = temp[blank_spot-1]\n",
    "        temp[blank_spot-1]=temp[blank_spot]\n",
    "        temp[blank_spot]=a\n",
    "    elif direction=='r':\n",
    "        a = temp[blank_spot+1]\n",
    "        temp[blank_spot+1]=temp[blank_spot]\n",
    "        temp[blank_spot]=a\n",
    "    \n",
    "    # return new state with tested move to later check if \"src == target\"\n",
    "    return temp"
   ]
  },
  {
   "cell_type": "code",
   "execution_count": 4,
   "metadata": {},
   "outputs": [
    {
     "data": {
      "text/plain": [
       "True"
      ]
     },
     "execution_count": 4,
     "metadata": {},
     "output_type": "execute_result"
    }
   ],
   "source": [
    "#Test 1\n",
    "src = [1,2,3,-1,4,5,6,7,8]\n",
    "target = [1,2,3,4,5,-1,6,7,8]         \n",
    "       \n",
    "\n",
    "\n",
    "bfs(src, target)"
   ]
  },
  {
   "cell_type": "code",
   "execution_count": 5,
   "metadata": {},
   "outputs": [
    {
     "data": {
      "text/plain": [
       "True"
      ]
     },
     "execution_count": 5,
     "metadata": {},
     "output_type": "execute_result"
    }
   ],
   "source": [
    "# Test 2\n",
    "src = [1,2,3,-1,4,5,6,7,8] \n",
    "target=[1,2,3,6,4,5,-1,7,8]\n",
    "\n",
    "\n",
    "\n",
    "bfs(src, target)"
   ]
  },
  {
   "cell_type": "code",
   "execution_count": null,
   "metadata": {},
   "outputs": [],
   "source": []
  }
 ],
 "metadata": {
  "kernelspec": {
   "display_name": "Python 3",
   "language": "python",
   "name": "python3"
  },
  "language_info": {
   "codemirror_mode": {
    "name": "ipython",
    "version": 3
   },
   "file_extension": ".py",
   "mimetype": "text/x-python",
   "name": "python",
   "nbconvert_exporter": "python",
   "pygments_lexer": "ipython3",
   "version": "3.8.3"
  }
 },
 "nbformat": 4,
 "nbformat_minor": 4
}
