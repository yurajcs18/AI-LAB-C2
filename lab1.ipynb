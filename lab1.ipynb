{
 "cells": [
  {
   "cell_type": "code",
   "execution_count": 1,
   "metadata": {},
   "outputs": [],
   "source": [
    "# Create a 3x3 tic tac toe board of \"\" strings for each value\n",
    "board = [''] * 9"
   ]
  },
  {
   "cell_type": "code",
   "execution_count": 2,
   "metadata": {},
   "outputs": [
    {
     "name": "stdout",
     "output_type": "stream",
     "text": [
      "     |      |\n",
      "     |      |  \n",
      "     |      |\n",
      "-------------------\n",
      "     |      |\n",
      "     |      |  \n",
      "     |      |\n",
      "-------------------\n",
      "     |      |\n",
      "     |      |  \n",
      "     |      |\n",
      "                             \n"
     ]
    }
   ],
   "source": [
    "# Create a function to display your board\n",
    "def display_board(board):\n",
    "    print('     |      |')\n",
    "    print('   '+ board[0]+ '  |    '+ board[1]+'  |  '+ board[2])\n",
    "    print('     |      |')\n",
    "    print('-------------------')\n",
    "    print('     |      |')\n",
    "    print('   '+ board[3]+ '  |    '+ board[4]+'  |  '+ board[5])\n",
    "    print('     |      |')\n",
    "    print('-------------------')\n",
    "    print('     |      |')\n",
    "    print('   '+ board[6]+ '  |    '+ board[7]+'  |  '+ board[8])\n",
    "    print('     |      |')\n",
    "    print('                             ')\n",
    "display_board(board)"
   ]
  },
  {
   "cell_type": "code",
   "execution_count": 3,
   "metadata": {},
   "outputs": [
    {
     "data": {
      "text/plain": [
       "False"
      ]
     },
     "execution_count": 3,
     "metadata": {},
     "output_type": "execute_result"
    }
   ],
   "source": [
    "#Create a function to check if anyone won, Use marks \"X\" or \"O\"\n",
    "def check_win(player_mark, board):\n",
    "    ## If the player has won then there must be 3 consecutive Player values\n",
    "    return( (board[0]== player_mark and board[1]== player_mark and board[2]== player_mark0) or\n",
    "            (board[3]== player_mark and board[4]== player_mark and board[5]== player_mark0) or\n",
    "            (board[6]== player_mark and board[7]== player_mark and board[8]== player_mark0) or\n",
    "            (board[0]== player_mark and board[3]== player_mark and board[6]== player_mark0) or\n",
    "            (board[1]== player_mark and board[4]== player_mark and board[7]== player_mark0) or\n",
    "            (board[2]== player_mark and board[5]== player_mark and board[8]== player_mark0) or\n",
    "            (board[0]== player_mark and board[4]== player_mark and board[8]== player_mark0) or\n",
    "            (board[2]== player_mark and board[4]== player_mark and board[6]== player_mark0) \n",
    "          )\n",
    "\n",
    "check_win('X', board)"
   ]
  },
  {
   "cell_type": "code",
   "execution_count": 4,
   "metadata": {},
   "outputs": [],
   "source": [
    "# Create a function to check its a Draw\n",
    "def check_draw(board):\n",
    "        return ' ' not in board"
   ]
  },
  {
   "cell_type": "code",
   "execution_count": 5,
   "metadata": {},
   "outputs": [],
   "source": [
    "# Create a Function that makes a copy of the board\n",
    "def display_board(board):\n",
    "    dupeBoard=[]\n",
    "    for j in board:\n",
    "        dupeBoard.append(j)\n",
    "    return dupeBoard"
   ]
  },
  {
   "cell_type": "code",
   "execution_count": 6,
   "metadata": {},
   "outputs": [],
   "source": [
    "#Immediate move checker\n",
    "def test_win_move(move, player_mark, board):\n",
    "    bCopy=board_copy(board)\n",
    "    bCopy[move]=player_mark\n",
    "    return check_win(player_mark, bCopy)"
   ]
  },
  {
   "cell_type": "code",
   "execution_count": 7,
   "metadata": {},
   "outputs": [],
   "source": [
    "#Strategy if others fail\n",
    "def win_strategy(board):\n",
    "    def win_strategy(board):\n",
    "        if board[4]== ' ':\n",
    "            return 4\n",
    "        for i in [0,2,6,8]:\n",
    "            if board[i]==' ':\n",
    "                return i\n",
    "        for i in [1,3,5,7]:\n",
    "            if board[i]==' ':\n",
    "                return i"
   ]
  },
  {
   "cell_type": "code",
   "execution_count": 8,
   "metadata": {},
   "outputs": [],
   "source": [
    "# Agents move\n",
    "def get_agent_move(board):\n",
    "    # Return agent move with your strategy\n",
    "    for i in range(0, 9):\n",
    "        if board[i] == ' ' and test_win_move(board, 'X', i):\n",
    "            return i\n",
    "    # Check player win moves\n",
    "    for i in range(0, 9):\n",
    "        if board[i] == ' ' and test_win_move(board, '0', i):\n",
    "            return i\n",
    "    \n",
    "    for i in range(0, 9):\n",
    "        if board[i] == ' ' and fork_move(board, 'X', i):\n",
    "            return i\n",
    "    \n",
    "    for i in range(0, 9):\n",
    "        if board[i] == ' ' and fork_move(board, '0', i):\n",
    "            return i\n",
    "    return win_strategy(board)"
   ]
  },
  {
   "cell_type": "code",
   "execution_count": 9,
   "metadata": {},
   "outputs": [],
   "source": [
    "# Assemble the game\n",
    "def tictactoe():\n",
    "    ### Note you need to recreate your board again here if you wish to play the game more than once\n",
    "    Playing = True\n",
    "    while Playing:\n",
    "        InGame = True\n",
    "        board = [' '] * 9\n",
    "        print('Would you like to go first or second? (1/2)')\n",
    "        if input() == '1':\n",
    "            playerMarker = '0'\n",
    "        else:\n",
    "            playerMarker = 'X'\n",
    "            display_board(board)\n",
    "\n",
    "        while InGame:\n",
    "            if playerMarker == '0':\n",
    "                print('Player go: (0-8)')\n",
    "                move = int(input())\n",
    "                if board[move] != ' ':\n",
    "                    print('Invalid move!')\n",
    "                    #continue\n",
    "            else:\n",
    "                move = get_agent_move(board)\n",
    "            board[move] = playerMarker\n",
    "            if check_win(playerMarker,board):\n",
    "                InGame = False\n",
    "                display_board(board)\n",
    "                if playerMarker == '0':\n",
    "                    print('Player wins!')\n",
    "                else:\n",
    "                    print('Agent wins!')\n",
    "                continue\n",
    "            if check_draw(board):\n",
    "                InGame = False\n",
    "                display_board(board)\n",
    "                print('It was a draw!')\n",
    "                continue\n",
    "            display_board(board)\n",
    "            if playerMarker == '0':\n",
    "                playerMarker = 'X'\n",
    "            else:\n",
    "                playerMarker = '0'\n",
    "\n",
    "        print('Type y to keep playing')\n",
    "        inp = input()\n",
    "        if inp != 'y' and inp != 'Y':\n",
    "            Playing = False"
   ]
  },
  {
   "cell_type": "code",
   "execution_count": 10,
   "metadata": {},
   "outputs": [
    {
     "ename": "TypeError",
     "evalue": "tictactoe() takes 0 positional arguments but 1 was given",
     "output_type": "error",
     "traceback": [
      "\u001b[1;31m---------------------------------------------------------------------------\u001b[0m",
      "\u001b[1;31mTypeError\u001b[0m                                 Traceback (most recent call last)",
      "\u001b[1;32m<ipython-input-10-277459585011>\u001b[0m in \u001b[0;36m<module>\u001b[1;34m\u001b[0m\n\u001b[0;32m      1\u001b[0m \u001b[1;31m# Play!!!\u001b[0m\u001b[1;33m\u001b[0m\u001b[1;33m\u001b[0m\u001b[1;33m\u001b[0m\u001b[0m\n\u001b[1;32m----> 2\u001b[1;33m \u001b[0mtictactoe\u001b[0m\u001b[1;33m(\u001b[0m\u001b[0mboard\u001b[0m\u001b[1;33m)\u001b[0m\u001b[1;33m\u001b[0m\u001b[1;33m\u001b[0m\u001b[0m\n\u001b[0m",
      "\u001b[1;31mTypeError\u001b[0m: tictactoe() takes 0 positional arguments but 1 was given"
     ]
    }
   ],
   "source": [
    "# Play!!!\n",
    "tictactoe(board)"
   ]
  },
  {
   "cell_type": "code",
   "execution_count": null,
   "metadata": {},
   "outputs": [],
   "source": [
    "class Tic_Tac_Toe:\n",
    "    def __init__(self):\n",
    "        pass"
   ]
  }
 ],
 "metadata": {
  "kernelspec": {
   "display_name": "Python 3",
   "language": "python",
   "name": "python3"
  },
  "language_info": {
   "codemirror_mode": {
    "name": "ipython",
    "version": 3
   },
   "file_extension": ".py",
   "mimetype": "text/x-python",
   "name": "python",
   "nbconvert_exporter": "python",
   "pygments_lexer": "ipython3",
   "version": "3.8.3"
  }
 },
 "nbformat": 4,
 "nbformat_minor": 4
}
